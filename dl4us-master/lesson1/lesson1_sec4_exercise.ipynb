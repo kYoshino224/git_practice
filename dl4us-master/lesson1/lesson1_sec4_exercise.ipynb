{
 "cells": [
  {
   "cell_type": "markdown",
   "metadata": {},
   "source": [
    "# Lesson1 手書き文字認識をしよう（ニューラルネットワーク入門）"
   ]
  },
  {
   "cell_type": "markdown",
   "metadata": {},
   "source": [
    "## 目次\n",
    "\n",
    "- 3.4の解答\n",
    "- Section4 実装②\n",
    "  - 4.1 Fashion MNIST\n",
    "  - 4.2 実装"
   ]
  },
  {
   "cell_type": "markdown",
   "metadata": {},
   "source": [
    "## 3.4の解答\n",
    "\n",
    "1. 損失関数のパラメータ微分のことを何というか  \n",
    "  ①スケーリング　**②勾配**　③学習率　④SGD\n",
    "2. 活性化関数の選択により対処可能な問題を何というか  \n",
    "  **①勾配消失問題**　②次元の呪い　③固有値問題　④バイアス―バリアンストレードオフ\n",
    "3. 損失関数にペナルティ項を加え、パラメータの自由度を下げる手法を何というか  \n",
    "  ①モーメンタム　②部分空間法　**③正則化**　④誤差逆伝播法\n",
    "4. 過学習への対処としてふさわしくないものはどれか  \n",
    "  ①ドロップアウト　**②スケーリング**　③ElasticNet　④早期終了"
   ]
  },
  {
   "cell_type": "markdown",
   "metadata": {},
   "source": [
    "## Section4 実装②"
   ]
  },
  {
   "cell_type": "markdown",
   "metadata": {},
   "source": [
    "最後に、この章の復習として、ファッションデータの分類をMLPを用いて行ってみましょう。"
   ]
  },
  {
   "cell_type": "markdown",
   "metadata": {},
   "source": [
    "### 4.1 Fashion MNIST"
   ]
  },
  {
   "cell_type": "code",
   "execution_count": 2,
   "metadata": {},
   "outputs": [],
   "source": [
    "# データのロード\n",
    "from tensorflow.keras.datasets import fashion_mnist\n",
    "\n",
    "(x_train, y_train), (x_test, y_test) = fashion_mnist.load_data()"
   ]
  },
  {
   "cell_type": "code",
   "execution_count": 3,
   "metadata": {},
   "outputs": [
    {
     "name": "stdout",
     "output_type": "stream",
     "text": [
      "(60000, 28, 28)\n",
      "(10000, 28, 28)\n"
     ]
    }
   ],
   "source": [
    "# データセットの大きさ確認\n",
    "print(x_train.shape) # 訓練データのサイズ\n",
    "print(x_test.shape) # テストデータのサイズ"
   ]
  },
  {
   "cell_type": "code",
   "execution_count": 4,
   "metadata": {},
   "outputs": [
    {
     "data": {
      "image/png": "[encoded data removed]",
      "text/plain": [
       "<Figure size 900x1500 with 9 Axes>"
      ]
     },
     "metadata": {},
     "output_type": "display_data"
    }
   ],
   "source": [
    "# データセットの表示\n",
    "%matplotlib inline\n",
    "import matplotlib.pyplot as plt\n",
    "\n",
    "fig = plt.figure(figsize=(9, 15))\n",
    "fig.subplots_adjust(left=0, right=1, bottom=0, top=0.5, hspace=0.05, wspace=0.05)\n",
    "\n",
    "for i in range(9):\n",
    "    ax = fig.add_subplot(1, 9, i + 1, xticks=[], yticks=[])\n",
    "    ax.imshow(x_train[i], cmap='gray')"
   ]
  },
  {
   "cell_type": "markdown",
   "metadata": {},
   "source": [
    "### 4.2 実装"
   ]
  },
  {
   "cell_type": "code",
   "execution_count": 5,
   "metadata": {
    "collapsed": true
   },
   "outputs": [],
   "source": [
    "# データの整形\n",
    "from tensorflow.keras.utils import to_categorical\n",
    "\n",
    "x_train = x_train.reshape(-1, 784) / 255\n",
    "x_test = x_test.reshape(-1, 784) /255\n",
    "y_train = to_categorical(y_train)\n",
    "y_test = to_categorical(y_test)"
   ]
  },
  {
   "cell_type": "code",
   "execution_count": 6,
   "metadata": {
    "collapsed": true
   },
   "outputs": [
    {
     "name": "stderr",
     "output_type": "stream",
     "text": [
      "2024-07-29 17:51:06.806271: I tensorflow/core/platform/cpu_feature_guard.cc:193] This TensorFlow binary is optimized with oneAPI Deep Neural Network Library (oneDNN) to use the following CPU instructions in performance-critical operations:  SSE4.1 SSE4.2\n",
      "To enable them in other operations, rebuild TensorFlow with the appropriate compiler flags.\n"
     ]
    }
   ],
   "source": [
    "# モデル構築\n",
    "from tensorflow.keras.models import Sequential\n",
    "from tensorflow.keras.layers import Dense, Activation, Dropout\n",
    "\n",
    "model = Sequential()\n",
    "\n",
    "model.add(Dense(512, input_shape=(784,), activation='relu', kernel_initializer='he_normal'))\n",
    "model.add(Dense(256, activation='relu', kernel_initializer='he_normal'))\n",
    "model.add(Dense(128, activation='relu', kernel_initializer='he_normal'))\n",
    "model.add(Dropout(0.3))\n",
    "model.add(Dense(64, activation='relu', kernel_initializer='he_normal'))\n",
    "model.add(Dense(32, activation='relu', kernel_initializer='he_normal'))\n",
    "model.add(Dense(10, activation='softmax'))\n",
    "\n",
    "model.compile(loss='categorical_crossentropy', optimizer='adam', metrics=['accuracy'])\n",
    "\n",
    "# 比較用にsection2と類似のモデルを準備\n",
    "model0 = Sequential()\n",
    "\n",
    "model0.add(Dense(units=256, input_shape=(784,)))\n",
    "model0.add(Activation('relu'))\n",
    "model0.add(Dense(units=100))\n",
    "model0.add(Activation('relu'))\n",
    "model0.add(Dense(units=10))\n",
    "model0.add(Activation('softmax'))\n",
    "\n",
    "model0.compile(loss='categorical_crossentropy', optimizer='sgd', metrics=['accuracy'])"
   ]
  },
  {
   "cell_type": "code",
   "execution_count": 7,
   "metadata": {},
   "outputs": [
    {
     "name": "stdout",
     "output_type": "stream",
     "text": [
      "Epoch 1/10\n",
      "60/60 - 2s - loss: 0.8765 - accuracy: 0.6887 - val_loss: 0.5107 - val_accuracy: 0.8181 - 2s/epoch - 30ms/step\n",
      "Epoch 2/10\n",
      "60/60 - 1s - loss: 0.4709 - accuracy: 0.8348 - val_loss: 0.4392 - val_accuracy: 0.8442 - 1s/epoch - 20ms/step\n",
      "Epoch 3/10\n",
      "60/60 - 1s - loss: 0.4031 - accuracy: 0.8558 - val_loss: 0.3992 - val_accuracy: 0.8559 - 1s/epoch - 20ms/step\n",
      "Epoch 4/10\n",
      "60/60 - 1s - loss: 0.3701 - accuracy: 0.8669 - val_loss: 0.3674 - val_accuracy: 0.8675 - 1s/epoch - 21ms/step\n",
      "Epoch 5/10\n",
      "60/60 - 1s - loss: 0.3401 - accuracy: 0.8768 - val_loss: 0.3562 - val_accuracy: 0.8723 - 1s/epoch - 21ms/step\n",
      "Epoch 6/10\n",
      "60/60 - 1s - loss: 0.3194 - accuracy: 0.8838 - val_loss: 0.3573 - val_accuracy: 0.8712 - 1s/epoch - 20ms/step\n",
      "Epoch 7/10\n",
      "60/60 - 1s - loss: 0.3096 - accuracy: 0.8888 - val_loss: 0.3456 - val_accuracy: 0.8761 - 1s/epoch - 21ms/step\n",
      "Epoch 8/10\n",
      "60/60 - 1s - loss: 0.2898 - accuracy: 0.8941 - val_loss: 0.3537 - val_accuracy: 0.8718 - 1s/epoch - 20ms/step\n",
      "Epoch 9/10\n",
      "60/60 - 1s - loss: 0.2790 - accuracy: 0.8977 - val_loss: 0.3465 - val_accuracy: 0.8805 - 1s/epoch - 21ms/step\n",
      "Epoch 10/10\n",
      "60/60 - 1s - loss: 0.2672 - accuracy: 0.9014 - val_loss: 0.3227 - val_accuracy: 0.8839 - 1s/epoch - 20ms/step\n",
      "Epoch 1/10\n",
      "60/60 - 1s - loss: 1.9044 - accuracy: 0.4174 - val_loss: 1.5611 - val_accuracy: 0.6142 - 801ms/epoch - 13ms/step\n",
      "Epoch 2/10\n",
      "60/60 - 1s - loss: 1.3390 - accuracy: 0.6515 - val_loss: 1.1730 - val_accuracy: 0.6670 - 515ms/epoch - 9ms/step\n",
      "Epoch 3/10\n",
      "60/60 - 1s - loss: 1.0604 - accuracy: 0.6869 - val_loss: 0.9859 - val_accuracy: 0.6932 - 509ms/epoch - 8ms/step\n",
      "Epoch 4/10\n",
      "60/60 - 1s - loss: 0.9188 - accuracy: 0.7150 - val_loss: 0.8829 - val_accuracy: 0.7196 - 518ms/epoch - 9ms/step\n",
      "Epoch 5/10\n",
      "60/60 - 1s - loss: 0.8349 - accuracy: 0.7371 - val_loss: 0.8174 - val_accuracy: 0.7343 - 510ms/epoch - 9ms/step\n",
      "Epoch 6/10\n",
      "60/60 - 1s - loss: 0.7783 - accuracy: 0.7527 - val_loss: 0.7711 - val_accuracy: 0.7492 - 505ms/epoch - 8ms/step\n",
      "Epoch 7/10\n",
      "60/60 - 1s - loss: 0.7372 - accuracy: 0.7647 - val_loss: 0.7362 - val_accuracy: 0.7588 - 507ms/epoch - 8ms/step\n",
      "Epoch 8/10\n",
      "60/60 - 1s - loss: 0.7050 - accuracy: 0.7749 - val_loss: 0.7082 - val_accuracy: 0.7662 - 507ms/epoch - 8ms/step\n",
      "Epoch 9/10\n",
      "60/60 - 1s - loss: 0.6788 - accuracy: 0.7819 - val_loss: 0.6843 - val_accuracy: 0.7742 - 507ms/epoch - 8ms/step\n",
      "Epoch 10/10\n",
      "60/60 - 1s - loss: 0.6566 - accuracy: 0.7892 - val_loss: 0.6644 - val_accuracy: 0.7803 - 507ms/epoch - 8ms/step\n"
     ]
    },
    {
     "data": {
      "text/plain": [
       "<keras.callbacks.History at 0x7fee1c6567d0>"
      ]
     },
     "execution_count": 7,
     "metadata": {},
     "output_type": "execute_result"
    }
   ],
   "source": [
    "# 学習\n",
    "from tensorflow.keras.callbacks import EarlyStopping\n",
    "\n",
    "early_stopping = EarlyStopping(patience=10, verbose=1)\n",
    "\n",
    "model.fit(x_train, y_train, batch_size=1000, verbose=2, epochs=10, validation_data=(x_test, y_test), callbacks=[early_stopping])\n",
    "model0.fit(x_train, y_train, batch_size=1000, verbose=2, epochs=10, validation_data=(x_test, y_test))"
   ]
  },
  {
   "cell_type": "code",
   "execution_count": 8,
   "metadata": {},
   "outputs": [
    {
     "name": "stdout",
     "output_type": "stream",
     "text": [
      "Test loss: 0.322743684053421\n",
      "Test accuracy: 0.883899986743927\n",
      "Test loss by model0: 0.6644480228424072\n",
      "Test accuracy by model0: 0.7803000211715698\n"
     ]
    }
   ],
   "source": [
    "# 性能評価\n",
    "score = model.evaluate(x_test, y_test, verbose=0)\n",
    "print('Test loss:', score[0])\n",
    "print('Test accuracy:', score[1])\n",
    "score0 = model0.evaluate(x_test, y_test, verbose=0)\n",
    "print('Test loss by model0:', score0[0])\n",
    "print('Test accuracy by model0:', score0[1])"
   ]
  }
 ],
 "metadata": {
  "kernelspec": {
   "display_name": "Python 3",
   "language": "python",
   "name": "python3"
  },
  "language_info": {
   "codemirror_mode": {
    "name": "ipython",
    "version": 3
   },
   "file_extension": ".py",
   "mimetype": "text/x-python",
   "name": "python",
   "nbconvert_exporter": "python",
   "pygments_lexer": "ipython3",
   "version": "3.10.13"
  }
 },
 "nbformat": 4,
 "nbformat_minor": 1
}
