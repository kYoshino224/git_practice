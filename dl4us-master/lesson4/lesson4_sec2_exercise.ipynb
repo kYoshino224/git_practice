{
 "cells": [
  {
   "cell_type": "markdown",
   "metadata": {},
   "source": [
    "# Lesson4 ニューラル翻訳モデルを作ってみよう（Seq2Seq, Attention）"
   ]
  },
  {
   "cell_type": "markdown",
   "metadata": {},
   "source": [
    "## 目次\n",
    "\n",
    "- Section1 Checkクイズの解答\n",
    "- Section2 実装①\n",
    "    - 2.0 データの用意\n",
    "    - 2.1 モデル構築\n",
    "    - 2.2 モデルの学習\n",
    "    - 2.3 モデルによる予測\n",
    "    - 2.4 モデルの可視化\n",
    "    - 2.5 機械翻訳の評価について（補足）"
   ]
  },
  {
   "cell_type": "markdown",
   "metadata": {},
   "source": [
    "## Section1 Checkクイズの解答\n",
    "\n",
    "問題1: 3, 問題2: 1, 問題3; 2, 問題4: 3"
   ]
  },
  {
   "cell_type": "markdown",
   "metadata": {},
   "source": [
    "## Section2 実装①"
   ]
  },
  {
   "cell_type": "markdown",
   "metadata": {},
   "source": [
    "LSTMを使ったSeq2Seqモデルで英日機械翻訳を行ってみましょう。\n",
    "\n",
    "使用するデータセット、train.enとtrain.jaの中身は次のようになっています.\n",
    "\n",
    "train.enの中身 (英語の文)\n",
    "```\n",
    "i can 't tell who will arrive first .\n",
    "many animals have been destroyed by men .\n",
    "i 'm in the tennis club .\n",
    "︙\n",
    "```\n",
    "\n",
    "train.jaの中身(日本語の文, 対訳)\n",
    "```\n",
    "誰 が 一番 に 着 く か 私 に は 分か り ま せ ん 。\n",
    "多く の 動物 が 人間 に よ っ て 滅ぼ さ れ た 。\n",
    "私 は テニス 部員 で す 。\n",
    "︙\n",
    "```\n",
    "(データセットにはTanaka Corpus ( http://www.edrdg.org/wiki/index.php/Tanaka_Corpus )の一部を抽出した \n",
    "small_parallel_enja: 50k En/Ja Parallel Corpus for Testing SMT Methods ( https://github.com/odashi/small_parallel_enja ) を使っています.)"
   ]
  },
  {
   "cell_type": "markdown",
   "metadata": {},
   "source": [
    "### 2.0 データの用意\n",
    "\n",
    "まずはデータの読み込みです。\n",
    "\n",
    "読み込む際、文頭を表す仮想単語（**BOS**, Beginning Of Sentence）として`<s>`、文末を表す仮想単語（**EOS**, End Of Sentence）として`<\\s>`を付加します。\n",
    "\n",
    "また、BOS, EOSをつけた文章について、Tokenizerによって数値化を行います。\n",
    "\n",
    "最後に、バッチ処理のため、各系列の長さをそろえておきます。これには`keras.preprocessing.sequence.pad_sequences`を用います。\n",
    "\n",
    "詳しくは、https://keras.io/ja/preprocessing/sequence/#pad_sequences を参照してください。\n",
    "\n",
    "<img src='figures/preprocess.png' width='80%'>"
   ]
  },
  {
   "cell_type": "code",
   "execution_count": 1,
   "metadata": {},
   "outputs": [
    {
     "name": "stderr",
     "output_type": "stream",
     "text": [
      "2024-08-01 21:33:45.795056: I tensorflow/core/platform/cpu_feature_guard.cc:193] This TensorFlow binary is optimized with oneAPI Deep Neural Network Library (oneDNN) to use the following CPU instructions in performance-critical operations:  SSE4.1 SSE4.2\n",
      "To enable them in other operations, rebuild TensorFlow with the appropriate compiler flags.\n"
     ]
    }
   ],
   "source": [
    "import tensorflow.python.keras as keras\n",
    "from keras.preprocessing.text import Tokenizer\n",
    "from sklearn.model_selection import train_test_split\n",
    "from keras_preprocessing.sequence import pad_sequences\n",
    "\n",
    "def load_data(file_path):\n",
    "    tokenizer = Tokenizer(filters=\"\")\n",
    "    whole_texts = []\n",
    "    for line in open(file_path, encoding='utf-8'):\n",
    "        whole_texts.append(\"<s> \" + line.strip() + \" </s>\")\n",
    "        \n",
    "    tokenizer.fit_on_texts(whole_texts)\n",
    "    \n",
    "    return tokenizer.texts_to_sequences(whole_texts), tokenizer\n",
    "\n",
    "# 読み込み＆Tokenizerによる数値化\n",
    "x_train, tokenizer_en = load_data('data/train.en')\n",
    "y_train, tokenizer_ja = load_data('data/train.ja')\n",
    "\n",
    "en_vocab_size = len(tokenizer_en.word_index) + 1\n",
    "ja_vocab_size = len(tokenizer_ja.word_index) + 1\n",
    "\n",
    "x_train, x_test, y_train, y_test = train_test_split(x_train, y_train, test_size=0.02, random_state=42)\n",
    "\n",
    "# パディング\n",
    "x_train = pad_sequences(x_train, padding='post')\n",
    "y_train = pad_sequences(y_train, padding='post')\n",
    "\n",
    "seqX_len = len(x_train[0])\n",
    "seqY_len = len(y_train[0])"
   ]
  },
  {
   "cell_type": "markdown",
   "metadata": {},
   "source": [
    "### 2.1 モデル構築\n",
    "\n",
    "ここでは、LSTMを使用してSeq2Seqモデルを構築します。\n",
    "\n",
    "Embeddingレイヤーでは`mask_zero=True`を引数として指定することで、計算上先程のパディング部分を無視するようにしています。\n",
    "\n",
    "また、Recurrentレイヤーに対する`return_state=True`や`return_sequences=True`の指定をLSTMレイヤーの生成時に行っています。\n",
    "\n",
    "なお、Functional APIによるモデル構築であることに注意してください。\n",
    "\n",
    "<img src='figures/model.png'>\n",
    "\n",
    "なお、図の各レイヤーは以下のように対応することに注意してください。\n",
    "\n",
    "1. 符号化器Embeddingレイヤー： EncoderのEmbedding\n",
    "2. 符号化器再帰レイヤー：　Encoder(LSTM)\n",
    "3. 復号化器Embeddingレイヤー： DecoderのEmbedding\n",
    "4. 復号化器再帰レイヤー： Decoder(LSTM)\n",
    "5. 復号化器出力レイヤー： Dense"
   ]
  },
  {
   "cell_type": "code",
   "execution_count": 2,
   "metadata": {
    "collapsed": true
   },
   "outputs": [
    {
     "name": "stderr",
     "output_type": "stream",
     "text": [
      "2024-08-01 21:34:08.711561: I tensorflow/core/platform/cpu_feature_guard.cc:193] This TensorFlow binary is optimized with oneAPI Deep Neural Network Library (oneDNN) to use the following CPU instructions in performance-critical operations:  SSE4.1 SSE4.2\n",
      "To enable them in other operations, rebuild TensorFlow with the appropriate compiler flags.\n"
     ]
    }
   ],
   "source": [
    "from keras.models import Model\n",
    "from keras.layers import Input, Embedding, Dense, LSTM\n",
    "\n",
    "emb_dim = 256\n",
    "hid_dim = 256\n",
    "\n",
    "## 符号化器\n",
    "# Inputレイヤー（返り値としてテンソルを受け取る）\n",
    "encoder_inputs = Input(shape=(seqX_len,))\n",
    "\n",
    "# モデルの層構成（手前の層の返り値テンソルを、次の接続したい層に別途引数として与える）\n",
    "# InputレイヤーとEmbeddingレイヤーを接続（+Embeddingレイヤーのインスタンス化）\n",
    "encoder_embedded = Embedding(en_vocab_size, emb_dim, mask_zero=True)(encoder_inputs) # shape: (seqX_len,)->(seqX_len, emb_dim)\n",
    "# EmbeddingレイヤーとLSTMレイヤーを接続（+LSTMレイヤーのインスタンス化）\n",
    "_, *encoder_states = LSTM(hid_dim, return_state=True)(encoder_embedded)  # shape: (seqX_len, emb_dim)->(hid_dim, )\n",
    "# このLSTMレイヤーの出力に関しては下記に補足あり"
   ]
  },
  {
   "cell_type": "code",
   "execution_count": 3,
   "metadata": {
    "collapsed": true
   },
   "outputs": [],
   "source": [
    "## 復号化器\n",
    "# Inputレイヤー（返り値としてテンソルを受け取る）\n",
    "decoder_inputs = Input(shape=(seqY_len,))\n",
    "\n",
    "# モデルの層構成（手前の層の返り値テンソルを、次の接続したい層に別途引数として与える）\n",
    "# InputレイヤーとEmbeddingレイヤーを接続\n",
    "decoder_embedding = Embedding(ja_vocab_size, emb_dim) # 後で参照したいので、レイヤー自体を変数化\n",
    "decoder_embedded = decoder_embedding(decoder_inputs)  # shape: (seqY_len,)->(seqY_len, emb_dim)\n",
    "# EmbeddingレイヤーとLSTMレイヤーを接続（encoder_statesを初期状態として指定）\n",
    "decoder_lstm = LSTM(hid_dim, return_sequences=True, return_state=True) # 後で参照したいので、レイヤー自体を変数化\n",
    "decoder_outputs, _, _ = decoder_lstm(decoder_embedded, initial_state=encoder_states) # shape: (seqY_len, emb_dim)->(seqY_len, hid_dim)\n",
    "# LSTMレイヤーとDenseレイヤーを接続\n",
    "decoder_dense = Dense(ja_vocab_size, activation='softmax') # 後で参照したいので、レイヤー自体を変数化\n",
    "decoder_outputs = decoder_dense(decoder_outputs) # shape: (seqY_len, hid_dim)->(seqY_len, ja_vocab_size)\n",
    "\n",
    "# モデル構築（入力は符号化器＆復号化器、出力は復号化器のみ）\n",
    "model = Model([encoder_inputs, decoder_inputs], decoder_outputs)\n",
    "model.compile(optimizer='rmsprop', loss='sparse_categorical_crossentropy')\n",
    "# 今回は、sparse_categorical_crossentropy（正解ラベルとしてone_hot表現のベクトルでなく数値を受け取るcategorical_crossentropy）を使用"
   ]
  },
  {
   "cell_type": "markdown",
   "metadata": {},
   "source": [
    "#### LSTMレイヤーの補足\n",
    "\n",
    "LSTMの出力に関して補足の説明をします。以下の図はLSTMの模式図です。\n",
    "\n",
    "<img src='../figures/lstm.png' width='50%'>\n",
    "\n",
    "**1. LSTMレイヤーはオプションがない場合はレイヤーの出力を返します。**\n",
    "\n",
    "```\n",
    "output = LSTM()(x)\n",
    "```\n",
    "\n",
    "なお、このときの出力(output)とはLSTMの最後の隠れ状態$h$のことを指します。\n",
    "\n",
    "図を3timestepとみる場合は $h_{t+2}$にあたります。\n",
    "\n",
    "**2.  引数に`return_state=True`を指定されているときは隠れ状態も返します。**\n",
    "\n",
    "```\n",
    "output, state_h, state_c = LSTM(return_state=True)(x)\n",
    "```\n",
    "\n",
    "このときの`state_h`と`state_c`はそれぞれLSTMの最後の隠れ状態$h$とセル状態$c$となります。\n",
    "\n",
    "図を3timestepとみる場合は `state_h`は $h_{t+2}$ 、`state_c`は$c_{t+2}$にあたります。\n",
    "\n",
    "このとき、`output=state_h`となっていることに注意してください。\n",
    "\n",
    "また、以下のコードを説明すると、\n",
    "\n",
    "```\n",
    "_, *encoder_states = LSTM(hid_dim, return_state=True)(encoder_embedded)\n",
    "```\n",
    "\n",
    "outputは今回は参照しないので`_`(アンダーバー)を使っており、`*`(スター)を使うことで`encoder_states=[state_h, state_c]`となるような代入を行っています。このような使い方はpython一般の使い方ですので疑問に思った方はpythonの復習をおすすめします。\n",
    "\n",
    "**3.  引数に`return_sequences=True`を指定されているときは系列も返します。**\n",
    "\n",
    "```\n",
    "outputs, state_h, state_c = LSTM(return_state=True, return_sequences=True)(x)\n",
    "```\n",
    "\n",
    "このとき`outputs`は系列すべての出力を含みます。\n",
    "\n",
    "図を3timestepとみる場合は、`outputs`に $h_{t}$、$h_{t+1}$、$h_{t+2}$のすべての出力を含むということになります。"
   ]
  },
  {
   "cell_type": "markdown",
   "metadata": {},
   "source": [
    "### 2.2 モデルの学習\n",
    "\n",
    "モデルの学習時には、教師データとして1時点先の単語を示すデータを入力します。(`train_target`)\n",
    "\n",
    "学習時にはDecoderの入力に教師データを用います。\n",
    "\n",
    "<img src='figures/training.png'>"
   ]
  },
  {
   "cell_type": "code",
   "execution_count": 4,
   "metadata": {
    "collapsed": true,
    "scrolled": true
   },
   "outputs": [
    {
     "name": "stdout",
     "output_type": "stream",
     "text": [
      "Epoch 1/15\n",
      "307/307 - 114s - loss: 2.9514 - val_loss: 2.3190 - 114s/epoch - 371ms/step\n",
      "Epoch 2/15\n",
      "307/307 - 111s - loss: 2.1032 - val_loss: 1.9737 - 111s/epoch - 362ms/step\n",
      "Epoch 3/15\n",
      "307/307 - 112s - loss: 1.8347 - val_loss: 1.7843 - 112s/epoch - 366ms/step\n",
      "Epoch 4/15\n",
      "307/307 - 115s - loss: 1.6715 - val_loss: 1.6683 - 115s/epoch - 376ms/step\n",
      "Epoch 5/15\n",
      "307/307 - 108s - loss: 1.5438 - val_loss: 1.5748 - 108s/epoch - 351ms/step\n",
      "Epoch 6/15\n",
      "307/307 - 114s - loss: 1.4351 - val_loss: 1.4936 - 114s/epoch - 371ms/step\n",
      "Epoch 7/15\n",
      "307/307 - 113s - loss: 1.3400 - val_loss: 1.4347 - 113s/epoch - 367ms/step\n",
      "Epoch 8/15\n",
      "307/307 - 124s - loss: 1.2567 - val_loss: 1.3814 - 124s/epoch - 404ms/step\n",
      "Epoch 9/15\n",
      "307/307 - 110s - loss: 1.1835 - val_loss: 1.3581 - 110s/epoch - 357ms/step\n",
      "Epoch 10/15\n",
      "307/307 - 113s - loss: 1.1174 - val_loss: 1.3179 - 113s/epoch - 368ms/step\n",
      "Epoch 11/15\n",
      "307/307 - 112s - loss: 1.0584 - val_loss: 1.2776 - 112s/epoch - 364ms/step\n",
      "Epoch 12/15\n",
      "307/307 - 117s - loss: 1.0058 - val_loss: 1.2666 - 117s/epoch - 380ms/step\n",
      "Epoch 13/15\n",
      "307/307 - 116s - loss: 0.9581 - val_loss: 1.2544 - 116s/epoch - 379ms/step\n",
      "Epoch 14/15\n",
      "307/307 - 110s - loss: 0.9132 - val_loss: 1.2445 - 110s/epoch - 360ms/step\n",
      "Epoch 15/15\n",
      "307/307 - 113s - loss: 0.8727 - val_loss: 1.2552 - 113s/epoch - 368ms/step\n"
     ]
    },
    {
     "data": {
      "text/plain": [
       "<keras.callbacks.History at 0x7fb1acd74310>"
      ]
     },
     "execution_count": 4,
     "metadata": {},
     "output_type": "execute_result"
    }
   ],
   "source": [
    "import numpy as np\n",
    "\n",
    "train_target = np.hstack((y_train[:, 1:], np.zeros((len(y_train),1), dtype=np.int32)))\n",
    "\n",
    "model.fit([x_train, y_train], np.expand_dims(train_target, -1), batch_size=128, epochs=15, verbose=2, validation_split=0.2)"
   ]
  },
  {
   "cell_type": "markdown",
   "metadata": {},
   "source": [
    "### 2.3 モデルによる生成\n",
    "\n",
    "先程学習したモデルを使用して、系列を生成してみましょう。\n",
    "\n",
    "そのためにまずは学習したモデルを組み込んだ、系列生成用のモデルを構築します。\n",
    "\n",
    "学習時との違いは、復号化器が1ステップずつ実行できるよう、状態ベクトルの入力と出力をモデルの定義に加えている点です。\n",
    "\n",
    "(また、1ステップ前の状態を引き継いで生成が可能になるように、復号化器のモデルの初期状態を指定可能にしています。)\n",
    "\n",
    "生成する際のDecoderの入力には翻訳先の教師データは用いません。\n",
    "\n",
    "<img src='figures/prediction.png'>"
   ]
  },
  {
   "cell_type": "code",
   "execution_count": 5,
   "metadata": {},
   "outputs": [],
   "source": [
    "# サンプリング用（生成用）のモデルを作成\n",
    "\n",
    "# 符号化器（学習時と同じ構成、学習したレイヤーを利用）\n",
    "encoder_model = Model(encoder_inputs, encoder_states)\n",
    "\n",
    "# 復号化器\n",
    "decoder_states_inputs = [Input(shape=(hid_dim,)), Input(shape=(hid_dim,))] # decorder_lstmの初期状態指定用(h_t, c_t)\n",
    "\n",
    "decoder_inputs = Input(shape=(1,))\n",
    "decoder_embedded = decoder_embedding(decoder_inputs) # 学習済みEmbeddingレイヤーを利用\n",
    "decoder_outputs, *decoder_states = decoder_lstm(decoder_embedded, initial_state=decoder_states_inputs) # 学習済みLSTMレイヤーを利用\n",
    "decoder_outputs = decoder_dense(decoder_outputs) # 学習済みDenseレイヤーを利用\n",
    "\n",
    "decoder_model = Model([decoder_inputs] + decoder_states_inputs, [decoder_outputs] + decoder_states)"
   ]
  },
  {
   "cell_type": "markdown",
   "metadata": {},
   "source": [
    "このモデルを使用した生成（予測）を行ってみましょう。\n",
    "\n",
    "生成では、未知のデータに対してモデルを適用するので正解ラベルはわかりません。\n",
    "\n",
    "そこで、代わりに前のステップで予測した単語を各ステップでの入力とします。\n",
    "\n",
    "そして, 系列の終わりを表す単語 (`</s>`) が出力されるまで繰り返します。（最初の入力は`<s>`を使用します）"
   ]
  },
  {
   "cell_type": "code",
   "execution_count": 6,
   "metadata": {
    "collapsed": true
   },
   "outputs": [],
   "source": [
    "def decode_sequence(input_seq, bos_eos, max_output_length = 1000):\n",
    "    states_value = encoder_model.predict(input_seq)\n",
    "\n",
    "    target_seq = np.array(bos_eos[0])  # bos_eos[0]=\"<s>\"に対応するインデックス\n",
    "    output_seq= bos_eos[0][:]\n",
    "    \n",
    "    while True:\n",
    "        output_tokens, *states_value = decoder_model.predict([target_seq] + states_value)\n",
    "        sampled_token_index = [np.argmax(output_tokens[0, -1, :])]\n",
    "        output_seq += sampled_token_index\n",
    "        \n",
    "        if (sampled_token_index == bos_eos[1] or len(output_seq) > max_output_length):\n",
    "            break\n",
    "\n",
    "        target_seq = np.array(sampled_token_index)\n",
    "\n",
    "    return output_seq"
   ]
  },
  {
   "cell_type": "code",
   "execution_count": 7,
   "metadata": {
    "collapsed": true
   },
   "outputs": [
    {
     "name": "stdout",
     "output_type": "stream",
     "text": [
      "元の文: <s> you may extend your stay in tokyo . </s>\n",
      "1/1 [==============================] - 1s 957ms/step\n",
      "1/1 [==============================] - 0s 369ms/step\n",
      "1/1 [==============================] - 0s 21ms/step\n",
      "1/1 [==============================] - 0s 21ms/step\n",
      "1/1 [==============================] - 0s 21ms/step\n",
      "1/1 [==============================] - 0s 22ms/step\n",
      "1/1 [==============================] - 0s 20ms/step\n",
      "1/1 [==============================] - 0s 21ms/step\n",
      "1/1 [==============================] - 0s 22ms/step\n",
      "1/1 [==============================] - 0s 20ms/step\n",
      "1/1 [==============================] - 0s 21ms/step\n",
      "1/1 [==============================] - 0s 21ms/step\n",
      "1/1 [==============================] - 0s 21ms/step\n",
      "1/1 [==============================] - 0s 22ms/step\n",
      "1/1 [==============================] - 0s 22ms/step\n",
      "1/1 [==============================] - 0s 21ms/step\n",
      "生成文: <s> あなた は 東京 に い る べ き で す が よ い 。 </s>\n",
      "正解文: <s> 東京 滞在 を 延ば し て も い い で す よ 。 </s>\n"
     ]
    }
   ],
   "source": [
    "detokenizer_en = dict(map(reversed, tokenizer_en.word_index.items()))\n",
    "detokenizer_ja = dict(map(reversed, tokenizer_ja.word_index.items()))\n",
    "\n",
    "text_no = 0\n",
    "input_seq = pad_sequences([x_test[text_no]], seqX_len, padding='post')\n",
    "bos_eos = tokenizer_ja.texts_to_sequences([\"<s>\", \"</s>\"])\n",
    "\n",
    "print('元の文:', ' '.join([detokenizer_en[i] for i in x_test[text_no]]))\n",
    "print('生成文:', ' '.join([detokenizer_ja[i] for i in decode_sequence(input_seq, bos_eos)]))\n",
    "print('正解文:', ' '.join([detokenizer_ja[i] for i in y_test[text_no]]))"
   ]
  },
  {
   "cell_type": "markdown",
   "metadata": {},
   "source": [
    "### 2.4 モデルの可視化"
   ]
  },
  {
   "cell_type": "code",
   "execution_count": 10,
   "metadata": {
    "collapsed": true
   },
   "outputs": [
    {
     "data": {
      "image/svg+xml": [
       "<svg xmlns=\"http://www.w3.org/2000/svg\" xmlns:xlink=\"http://www.w3.org/1999/xlink\" width=\"443pt\" height=\"449pt\" viewBox=\"0.00 0.00 332.00 337.00\">\n",
       "<g id=\"graph0\" class=\"graph\" transform=\"scale(1.33 1.33) rotate(0) translate(4 333)\">\n",
       "<title>G</title>\n",
       "<polygon fill=\"white\" stroke=\"transparent\" points=\"-4,4 -4,-333 328,-333 328,4 -4,4\"/>\n",
       "<!-- 140399931447312 -->\n",
       "<g id=\"node1\" class=\"node\">\n",
       "<title>140399931447312</title>\n",
       "<polygon fill=\"none\" stroke=\"black\" points=\"11,-292.5 11,-328.5 146,-328.5 146,-292.5 11,-292.5\"/>\n",
       "<text text-anchor=\"middle\" x=\"40\" y=\"-306.8\" font-family=\"Times,serif\" font-size=\"14.00\">input_1</text>\n",
       "<polyline fill=\"none\" stroke=\"black\" points=\"69,-292.5 69,-328.5 \"/>\n",
       "<text text-anchor=\"middle\" x=\"107.5\" y=\"-306.8\" font-family=\"Times,serif\" font-size=\"14.00\">InputLayer</text>\n",
       "</g>\n",
       "<!-- 140399931447696 -->\n",
       "<g id=\"node3\" class=\"node\">\n",
       "<title>140399931447696</title>\n",
       "<polygon fill=\"none\" stroke=\"black\" points=\"0,-219.5 0,-255.5 157,-255.5 157,-219.5 0,-219.5\"/>\n",
       "<text text-anchor=\"middle\" x=\"38.5\" y=\"-233.8\" font-family=\"Times,serif\" font-size=\"14.00\">embedding</text>\n",
       "<polyline fill=\"none\" stroke=\"black\" points=\"77,-219.5 77,-255.5 \"/>\n",
       "<text text-anchor=\"middle\" x=\"117\" y=\"-233.8\" font-family=\"Times,serif\" font-size=\"14.00\">Embedding</text>\n",
       "</g>\n",
       "<!-- 140399931447312&#45;&gt;140399931447696 -->\n",
       "<g id=\"edge1\" class=\"edge\">\n",
       "<title>140399931447312-&gt;140399931447696</title>\n",
       "<path fill=\"none\" stroke=\"black\" d=\"M78.5,-292.31C78.5,-284.29 78.5,-274.55 78.5,-265.57\"/>\n",
       "<polygon fill=\"black\" stroke=\"black\" points=\"82,-265.53 78.5,-255.53 75,-265.53 82,-265.53\"/>\n",
       "</g>\n",
       "<!-- 140400500515712 -->\n",
       "<g id=\"node2\" class=\"node\">\n",
       "<title>140400500515712</title>\n",
       "<polygon fill=\"none\" stroke=\"black\" points=\"175,-219.5 175,-255.5 310,-255.5 310,-219.5 175,-219.5\"/>\n",
       "<text text-anchor=\"middle\" x=\"204\" y=\"-233.8\" font-family=\"Times,serif\" font-size=\"14.00\">input_2</text>\n",
       "<polyline fill=\"none\" stroke=\"black\" points=\"233,-219.5 233,-255.5 \"/>\n",
       "<text text-anchor=\"middle\" x=\"271.5\" y=\"-233.8\" font-family=\"Times,serif\" font-size=\"14.00\">InputLayer</text>\n",
       "</g>\n",
       "<!-- 140400500515472 -->\n",
       "<g id=\"node4\" class=\"node\">\n",
       "<title>140400500515472</title>\n",
       "<polygon fill=\"none\" stroke=\"black\" points=\"153,-146.5 153,-182.5 324,-182.5 324,-146.5 153,-146.5\"/>\n",
       "<text text-anchor=\"middle\" x=\"198.5\" y=\"-160.8\" font-family=\"Times,serif\" font-size=\"14.00\">embedding_1</text>\n",
       "<polyline fill=\"none\" stroke=\"black\" points=\"244,-146.5 244,-182.5 \"/>\n",
       "<text text-anchor=\"middle\" x=\"284\" y=\"-160.8\" font-family=\"Times,serif\" font-size=\"14.00\">Embedding</text>\n",
       "</g>\n",
       "<!-- 140400500515712&#45;&gt;140400500515472 -->\n",
       "<g id=\"edge2\" class=\"edge\">\n",
       "<title>140400500515712-&gt;140400500515472</title>\n",
       "<path fill=\"none\" stroke=\"black\" d=\"M241.53,-219.31C241.08,-211.29 240.53,-201.55 240.03,-192.57\"/>\n",
       "<polygon fill=\"black\" stroke=\"black\" points=\"243.52,-192.32 239.46,-182.53 236.53,-192.71 243.52,-192.32\"/>\n",
       "</g>\n",
       "<!-- 140399931441984 -->\n",
       "<g id=\"node5\" class=\"node\">\n",
       "<title>140399931441984</title>\n",
       "<polygon fill=\"none\" stroke=\"black\" points=\"37.5,-146.5 37.5,-182.5 131.5,-182.5 131.5,-146.5 37.5,-146.5\"/>\n",
       "<text text-anchor=\"middle\" x=\"58\" y=\"-160.8\" font-family=\"Times,serif\" font-size=\"14.00\">lstm</text>\n",
       "<polyline fill=\"none\" stroke=\"black\" points=\"78.5,-146.5 78.5,-182.5 \"/>\n",
       "<text text-anchor=\"middle\" x=\"105\" y=\"-160.8\" font-family=\"Times,serif\" font-size=\"14.00\">LSTM</text>\n",
       "</g>\n",
       "<!-- 140399931447696&#45;&gt;140399931441984 -->\n",
       "<g id=\"edge3\" class=\"edge\">\n",
       "<title>140399931447696-&gt;140399931441984</title>\n",
       "<path fill=\"none\" stroke=\"black\" d=\"M79.95,-219.31C80.63,-211.29 81.45,-201.55 82.21,-192.57\"/>\n",
       "<polygon fill=\"black\" stroke=\"black\" points=\"85.71,-192.79 83.06,-182.53 78.73,-192.2 85.71,-192.79\"/>\n",
       "</g>\n",
       "<!-- 140400502956496 -->\n",
       "<g id=\"node6\" class=\"node\">\n",
       "<title>140400502956496</title>\n",
       "<polygon fill=\"none\" stroke=\"black\" points=\"106,-73.5 106,-109.5 213,-109.5 213,-73.5 106,-73.5\"/>\n",
       "<text text-anchor=\"middle\" x=\"133\" y=\"-87.8\" font-family=\"Times,serif\" font-size=\"14.00\">lstm_1</text>\n",
       "<polyline fill=\"none\" stroke=\"black\" points=\"160,-73.5 160,-109.5 \"/>\n",
       "<text text-anchor=\"middle\" x=\"186.5\" y=\"-87.8\" font-family=\"Times,serif\" font-size=\"14.00\">LSTM</text>\n",
       "</g>\n",
       "<!-- 140400500515472&#45;&gt;140400502956496 -->\n",
       "<g id=\"edge4\" class=\"edge\">\n",
       "<title>140400500515472-&gt;140400502956496</title>\n",
       "<path fill=\"none\" stroke=\"black\" d=\"M219.38,-146.31C209.38,-137.33 196.99,-126.19 186.08,-116.39\"/>\n",
       "<polygon fill=\"black\" stroke=\"black\" points=\"188.22,-113.61 178.45,-109.53 183.55,-118.82 188.22,-113.61\"/>\n",
       "</g>\n",
       "<!-- 140399931441984&#45;&gt;140400502956496 -->\n",
       "<g id=\"edge5\" class=\"edge\">\n",
       "<title>140399931441984-&gt;140400502956496</title>\n",
       "<path fill=\"none\" stroke=\"black\" d=\"M102.66,-146.31C112.05,-137.42 123.68,-126.41 133.97,-116.67\"/>\n",
       "<polygon fill=\"black\" stroke=\"black\" points=\"136.66,-118.95 141.51,-109.53 131.84,-113.86 136.66,-118.95\"/>\n",
       "</g>\n",
       "<!-- 140400500515664 -->\n",
       "<g id=\"node7\" class=\"node\">\n",
       "<title>140400500515664</title>\n",
       "<polygon fill=\"none\" stroke=\"black\" points=\"111,-0.5 111,-36.5 208,-36.5 208,-0.5 111,-0.5\"/>\n",
       "<text text-anchor=\"middle\" x=\"134.5\" y=\"-14.8\" font-family=\"Times,serif\" font-size=\"14.00\">dense</text>\n",
       "<polyline fill=\"none\" stroke=\"black\" points=\"158,-0.5 158,-36.5 \"/>\n",
       "<text text-anchor=\"middle\" x=\"183\" y=\"-14.8\" font-family=\"Times,serif\" font-size=\"14.00\">Dense</text>\n",
       "</g>\n",
       "<!-- 140400502956496&#45;&gt;140400500515664 -->\n",
       "<g id=\"edge6\" class=\"edge\">\n",
       "<title>140400502956496-&gt;140400500515664</title>\n",
       "<path fill=\"none\" stroke=\"black\" d=\"M159.5,-73.31C159.5,-65.29 159.5,-55.55 159.5,-46.57\"/>\n",
       "<polygon fill=\"black\" stroke=\"black\" points=\"163,-46.53 159.5,-36.53 156,-46.53 163,-46.53\"/>\n",
       "</g>\n",
       "</g>\n",
       "</svg>"
      ],
      "text/plain": [
       "<IPython.core.display.SVG object>"
      ]
     },
     "execution_count": 10,
     "metadata": {},
     "output_type": "execute_result"
    }
   ],
   "source": [
    "from IPython.display import SVG\n",
    "from keras.utils import model_to_dot\n",
    "\n",
    "SVG(model_to_dot(model).create(prog='dot', format='svg'))"
   ]
  },
  {
   "cell_type": "markdown",
   "metadata": {},
   "source": [
    "### 2.5 機械翻訳の評価について（補足）\n",
    "\n",
    "これまで、基本的に学習したモデルの良し悪しについては損失をベースに考えてきました。\n",
    "\n",
    "ですが機械翻訳の場合、損失と翻訳の精度が必ずしも一致しません。\n",
    "\n",
    "というのも、翻訳においては、単純に各単語が一致しているか否か以上に、意味的な繋がりや表現の流暢さが重要となるためです。\n",
    "\n",
    "また、必ずしも語順についても一致している必要はありません。\n",
    "\n",
    "そこで、そうした翻訳タスク特有の性質を反映した評価指標が必要となります。その代表例として、**BLEUスコア**が挙げられます。\n",
    "\n",
    "BLEUスコアは、n-gram（連続n単語. 主にn=4）がどれだけ生成文と正解文で共有されているかなどを考慮した指標となっています。\n",
    "\n",
    "機械翻訳は本講座の主目的ではないので、ここではその詳細な算出方法等は触れませんが、興味がある方はスクリプト（http://www.nltk.org/_modules/nltk/translate/bleu_score.html ）をのぞいてみてください。"
   ]
  },
  {
   "cell_type": "code",
   "execution_count": null,
   "metadata": {
    "collapsed": true
   },
   "outputs": [],
   "source": [
    "from nltk.translate.bleu_score import sentence_bleu, SmoothingFunction\n",
    "\n",
    "prediction = ['I', 'am', 'a', 'graduate', 'student', 'at', 'a', 'university']\n",
    "reference = [['I', 'am', 'a', 'graduate', 'student', 'at', 'the', 'university', 'of', 'tokyo']]\n",
    "\n",
    "print(sentence_bleu(reference, prediction))"
   ]
  },
  {
   "cell_type": "code",
   "execution_count": null,
   "metadata": {
    "collapsed": true
   },
   "outputs": [],
   "source": [
    "text_no = 1\n",
    "input_seq = pad_sequences([x_test[text_no]], seqX_len, padding='post')\n",
    "bos_eos = tokenizer_ja.texts_to_sequences([\"<s>\", \"</s>\"])\n",
    "\n",
    "prediction = [detokenizer_ja[i] for i in decode_sequence(input_seq, bos_eos)]\n",
    "reference = [[detokenizer_ja[i] for i in y_test[text_no]]]\n",
    "\n",
    "print(prediction)\n",
    "print(reference)\n",
    "\n",
    "print(sentence_bleu(reference, prediction))"
   ]
  },
  {
   "cell_type": "markdown",
   "metadata": {},
   "source": [
    "このBLEUスコアの他にも、機械翻訳の評価指標がいくつか提案されています。\n",
    "\n",
    "代表的なものの比較は、\n",
    "\n",
    "N. Graham, \"文レベルの機械翻訳評価尺度に関する調査\", 研究報告自然言語処理, vol. 2013-NL-212, no. 7, pp. 1–8, 2013. (http://phontron.com/paper/neubig13nl212.pdf)\n",
    "\n",
    "などにまとめられているので、機械翻訳に興味のあるかたは参照してみてください。"
   ]
  }
 ],
 "metadata": {
  "kernelspec": {
   "display_name": "Python 3",
   "language": "python",
   "name": "python3"
  },
  "language_info": {
   "codemirror_mode": {
    "name": "ipython",
    "version": 3
   },
   "file_extension": ".py",
   "mimetype": "text/x-python",
   "name": "python",
   "nbconvert_exporter": "python",
   "pygments_lexer": "ipython3",
   "version": "3.10.13"
  }
 },
 "nbformat": 4,
 "nbformat_minor": 2
}
